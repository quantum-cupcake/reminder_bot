{
 "cells": [
  {
   "cell_type": "code",
   "execution_count": null,
   "metadata": {
    "scrolled": false
   },
   "outputs": [],
   "source": [
    "import time\n",
    "import telebot\n",
    "import sched\n",
    "import datetime\n",
    "import dateparser\n",
    "\n",
    "with open('apikey.txt', 'r') as f:\n",
    "    apikey = f.readline()\n",
    "\n",
    "bot = telebot.TeleBot(apikey)\n",
    "s = sched.scheduler(time.time, time.sleep)\n",
    "\n",
    "def send_notification(bot, id, notification_text):\n",
    "    bot.send_message(id, notification_text)\n",
    "    \n",
    "def dummy_time():\n",
    "    dt = datetime.datetime.now()\n",
    "    td = datetime.timedelta(seconds=5)\n",
    "    dt += td\n",
    "    return dt   \n",
    "\n",
    "# not operational so far\n",
    "# def rel_sched():\n",
    "#     s.enter(int(message.text), 1, send_notification, argument=(bot, message.from_user.id, \"Няyz\"))\n",
    "#     s.run()\n",
    "\n",
    "#only works for a non-recurring reminder \n",
    "def abs_sched(dtime, bot, user_id, notification_text):\n",
    "    s.enterabs(dtime.timestamp(), 1, send_notification, argument=(bot, user_id, notification_text))\n",
    "    s.run()\n",
    "\n",
    "\n",
    "@bot.message_handler(content_types=['text'])\n",
    "def get_text_messages(message):\n",
    "#     print(str(time.clock()) + str(message.text))\n",
    "    in_text = message.text\n",
    "    print(in_text + str(message.from_user.id))\n",
    "    scheduling_time = dateparser.parse(' '.join(in_text.split()[0:2]))\n",
    "    notification_text = ' '.join(in_text.split()[2:])\n",
    "    bot.send_message(message.from_user.id, \"Напишу тебе в \" + str(scheduling_time))\n",
    "    abs_sched(scheduling_time, bot, message.from_user.id, notification_text)\n",
    "    \n",
    "bot.polling(none_stop=True, interval=1)"
   ]
  }
 ],
 "metadata": {
  "kernelspec": {
   "display_name": "Python 3",
   "language": "python",
   "name": "python3"
  },
  "language_info": {
   "codemirror_mode": {
    "name": "ipython",
    "version": 3
   },
   "file_extension": ".py",
   "mimetype": "text/x-python",
   "name": "python",
   "nbconvert_exporter": "python",
   "pygments_lexer": "ipython3",
   "version": "3.7.1"
  }
 },
 "nbformat": 4,
 "nbformat_minor": 2
}
