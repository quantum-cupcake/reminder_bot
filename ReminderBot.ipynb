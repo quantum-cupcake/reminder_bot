{
 "cells": [
  {
   "cell_type": "code",
   "execution_count": 1,
   "metadata": {
    "collapsed": true,
    "deletable": true,
    "editable": true
   },
   "outputs": [],
   "source": [
    "import time\n",
    "import telebot\n",
    "import sched\n",
    "import datetime\n",
    "import dateparser\n",
    "import logging\n",
    "import threading\n",
    "import uuid\n",
    "\n",
    "logging_level = logging.DEBUG\n",
    "logger = logging.getLogger(\"rmndrBot\" if __name__ == \"__main__\" else __name__)\n",
    "c_handler = logging.StreamHandler()\n",
    "logger.setLevel(logging_level)\n",
    "c_handler.setLevel(logging_level)\n",
    "c_format = logging.Formatter('%(asctime)s - %(threadName)s - %(levelname)s - %(message)s')\n",
    "c_handler.setFormatter(c_format)\n",
    "logger.addHandler(c_handler)"
   ]
  },
  {
   "cell_type": "code",
   "execution_count": 2,
   "metadata": {
    "collapsed": false,
    "deletable": true,
    "editable": true
   },
   "outputs": [
    {
     "name": "stderr",
     "output_type": "stream",
     "text": [
      "2019-04-07 19:22:50,497 - WorkerThread1 - DEBUG - Received message Tomorrow wake up from user_id 220340386.\n",
      "2019-04-07 19:22:51,341 - WorkerThread1 - DEBUG - New task id <built-in function id> for user 220340386 scheduled for 2019-04-08 19:22:51.287854.\n",
      "2019-04-07 19:22:51,345 - WorkerThread1 - INFO - New user, id: 220340386!\n",
      "2019-04-07 19:22:51,350 - Thread-6 - INFO - thread started!\n",
      "2019-04-07 19:22:51,388 - Thread-6 - DEBUG - Tasks_list: [<__main__.Task object at 0x0000007EE6A2A940>]\n",
      "2019-04-07 19:22:52,341 - WorkerThread1 - DEBUG - Task queue for user 220340386: [UUID('e4462865-44dd-439b-8d27-23daa2c8617a')].\n",
      "2019-04-07 19:22:56,396 - Thread-6 - DEBUG - Tasks_list: [<__main__.Task object at 0x0000007EE6A2A940>]\n",
      "2019-04-07 19:23:01,400 - Thread-6 - DEBUG - Tasks_list: [<__main__.Task object at 0x0000007EE6A2A940>]\n",
      "2019-04-07 19:23:06,404 - Thread-6 - DEBUG - Tasks_list: [<__main__.Task object at 0x0000007EE6A2A940>]\n",
      "2019-04-07 19:23:11,408 - Thread-6 - DEBUG - Tasks_list: [<__main__.Task object at 0x0000007EE6A2A940>]\n",
      "2019-04-07 19:23:16,413 - Thread-6 - DEBUG - Tasks_list: [<__main__.Task object at 0x0000007EE6A2A940>]\n",
      "2019-04-07 19:23:21,417 - Thread-6 - DEBUG - Tasks_list: [<__main__.Task object at 0x0000007EE6A2A940>]\n",
      "2019-04-07 19:23:26,422 - Thread-6 - DEBUG - Tasks_list: [<__main__.Task object at 0x0000007EE6A2A940>]\n"
     ]
    }
   ],
   "source": [
    "with open('apikey.txt', 'r') as f:\n",
    "    apikey = f.readline()\n",
    "\n",
    "contact_data = 'example@example.com'\n",
    "bot = telebot.TeleBot(apikey)\n",
    "tasks = {}\n",
    "tasks_mutex_dict = {}\n",
    "user_threads = {}\n",
    "# s = sched.scheduler(time.time, time.sleep)\n",
    "\n",
    "\n",
    "from dateparser.date import DateDataParser\n",
    "class MiracleDateParser(DateDataParser):\n",
    "    def __init__(self):\n",
    "        super().__init__(languages=['en', 'ru'])\n",
    "    def get_date_data(self, date_string, date_formats=None):\n",
    "        parsed = super().get_date_data(date_string, date_formats)\n",
    "        if not parsed['date_obj']:\n",
    "            return None\n",
    "        return parsed\n",
    "    \n",
    "SupercoolMiracleDateParserInstance = MiracleDateParser()\n",
    "\n",
    "\n",
    "def dummy_time():\n",
    "    dt = datetime.datetime.now()\n",
    "    td = datetime.timedelta(seconds=5)\n",
    "    dt += td\n",
    "    return dt   \n",
    "\n",
    "def message_to_user(user_id, message):\n",
    "    bot.send_message(user_id, message)\n",
    "\n",
    "def new_task(user_id, task):\n",
    "    if user_id in tasks:\n",
    "        tasks[user_id].append(task)\n",
    "        tasks_mutex_dict[user_id].acquire() # synchronized\n",
    "        tasks[user_id] = sorted(tasks[user_id], key=lambda task: task.scheduled_time)\n",
    "        tasks_mutex_dict[user_id].release()\n",
    "    else:\n",
    "        tasks[user_id] = [task]\n",
    "        tasks_mutex_dict[user_id] = threading.Lock()\n",
    "        new_user(user_id)\n",
    "    \n",
    "def new_user(user_id, refresh_interval=5):\n",
    "    new_thread = User_Thread(user_id, refresh_interval)\n",
    "    user_threads[user_id] = (new_thread, True)\n",
    "    logger.info(\"New user, id: %d!\" % user_id)\n",
    "    new_thread.start()\n",
    "#     message_to_user(user_id, \"Welcome to ReminderBot. We hope you will enjoy using it!\")\n",
    "\n",
    "class Task(object):\n",
    "    def __init__(self, user_id, message_text, parser):\n",
    "        self.parser = parser\n",
    "        self.scheduled_time, self.content = self.parse_time_and_content(message_text)\n",
    "        self.creation_timestamp = datetime.datetime.now()\n",
    "        self.user_id = user_id\n",
    "        self.id = uuid.uuid4()\n",
    "        logger.debug(\"New task id %s for user %d scheduled for %s.\" % (str(id), self.user_id, str(self.scheduled_time)))\n",
    "    \n",
    "    def parse_time_and_content(self, message_text):\n",
    "        start_time = len(message_text.split()) if len(message_text.split()) < 6 else 5\n",
    "        for i in range(start_time):\n",
    "            parsed_time = self.parser.get_date_data(' '.join(message_text.split()[0:i]))\n",
    "            if parsed_time:\n",
    "                scheduled_time = parsed_time['date_obj']\n",
    "                text = ' '.join(message_text.split()[i:])\n",
    "            else:\n",
    "                continue\n",
    "        return scheduled_time, text\n",
    "    \n",
    "    def execute(self):\n",
    "        message_to_user(self.user_id, self.content)\n",
    "        \n",
    "# one per user_id\n",
    "class User_Thread(threading.Thread):\n",
    "    def __init__(self, user_id, refresh_interval):\n",
    "        threading.Thread.__init__(self)\n",
    "        self.user_id = user_id\n",
    "        self.tasks_list = tasks[user_id]\n",
    "        self.tasks_mutex = tasks_mutex_dict[user_id]\n",
    "        self.refresh_interval = refresh_interval\n",
    "        self.scheduler = sched.scheduler()\n",
    "        \n",
    "    def run(self):\n",
    "        logger.info(\"thread started!\")\n",
    "        while user_threads[self.user_id][1]:\n",
    "            self.schedule()\n",
    "        logger.info(\"thread for user id %d finished.\" % user_id)\n",
    "        \n",
    "    def schedule(self):\n",
    "        self.tasks_mutex.acquire() # synchronized\n",
    "        self.tasks_list = tasks[self.user_id]\n",
    "        if self.tasks_list:\n",
    "            logger.debug(\"Tasks_list: %s\" % str(self.tasks_list))\n",
    "            time_left = self.tasks_list[0].scheduled_time - datetime.datetime.now()\n",
    "            if time_left.total_seconds() < self.refresh_interval:\n",
    "                interval = time_left.total_seconds()\n",
    "            else:\n",
    "                interval = self.refresh_interval\n",
    "        else:\n",
    "            interval = self.refresh_interval\n",
    "        self.tasks_mutex.release()\n",
    "        self.scheduler.enter(interval, 1, self.clear_tasks)\n",
    "#         logger.debug(\"Scheduler queue: %s\" % str(self.scheduler.queue))\n",
    "        self.scheduler.run()\n",
    "        return\n",
    "        \n",
    "    def clear_tasks(self):\n",
    "        self.tasks_mutex.acquire() # synchronized\n",
    "        if(self.tasks_list):\n",
    "            if self.tasks_list[0].scheduled_time < datetime.datetime.now():\n",
    "                logger.debug(\"Popping task scheduled for %s for user id %d\" % (str(self.tasks_list[0].scheduled_time), self.user_id))\n",
    "                task = self.tasks_list.pop(0)\n",
    "                task.execute()\n",
    "        self.tasks_mutex.release()\n",
    "\n",
    "@bot.message_handler(commands=['help',])\n",
    "def send_welcome(message):\n",
    "    instructions  = \"\"\"Hi!\\nSend me a message like \\\"Tomorrow 18:00 Dinner with Jack\\\" and I'll remind you at the time you specified!\\nPlease report any problems at %s\"\"\" % contact_data\n",
    "    bot.reply_to(message, instructions)\n",
    "    \n",
    "@bot.message_handler(commands=['tasks',])\n",
    "def display_tasks(message):\n",
    "    user_id = message.from_user.id\n",
    "    tasks_for_user = tasks[user_id]\n",
    "    result = [str(task.scheduled_time) + ' ' + str(task.content) for task in tasks_for_user]\n",
    "    message_to_user(user_id, '\\n'.join(result))\n",
    "        \n",
    "@bot.message_handler(content_types=['text'])\n",
    "def get_text_messages(message):\n",
    "    in_text = message.text\n",
    "    user_id = message.from_user.id\n",
    "    logger.debug(\"Received message %s from user_id %d.\" % (in_text, user_id))\n",
    "    t = Task(user_id, in_text,SupercoolMiracleDateParserInstance)\n",
    "    new_task(user_id, t)\n",
    "    message_to_user(user_id, \"New reminder scheduled for %s.\" % str(t.scheduled_time))\n",
    "    logger.debug(\"Task queue for user %d: %s.\" % (user_id, str([task.id for task in tasks[user_id]])))\n",
    "\n",
    "bot.polling(none_stop=True, interval=1)"
   ]
  },
  {
   "cell_type": "code",
   "execution_count": null,
   "metadata": {
    "collapsed": false,
    "deletable": true,
    "editable": true
   },
   "outputs": [],
   "source": [
    "#heapq experiments: probably should use this instead of list sorted after each append call\n",
    "# import heapq\n",
    "\n",
    "# h = []\n",
    "# heapq.heappush(h, 4)\n",
    "# heapq.heappush(h, 2)\n",
    "# heapq.heappush(h, 1)\n",
    "# print(type(h))\n",
    "# print(h)\n",
    "# print(list(h))\n",
    "# print(heapq.heappop(h))\n",
    "# print(heapq.heappop(h))"
   ]
  },
  {
   "cell_type": "code",
   "execution_count": 4,
   "metadata": {
    "collapsed": false,
    "deletable": true,
    "editable": true
   },
   "outputs": [
    {
     "name": "stdout",
     "output_type": "stream",
     "text": [
      "None\n"
     ]
    }
   ],
   "source": [
    "def parse_time_and_content(message_text):\n",
    "    import dateparser\n",
    "    scheduled_time = dateparser.parse(' '.join(message_text.split()[0:2]))\n",
    "    content = ' '.join(message_text.split()[2:])\n",
    "    return scheduled_time, content\n",
    "\n",
    "a, b = parse_time_and_content(\"Tomorrow say hi\")\n",
    "print(b)"
   ]
  },
  {
   "cell_type": "code",
   "execution_count": 17,
   "metadata": {
    "collapsed": false,
    "deletable": true,
    "editable": true
   },
   "outputs": [
    {
     "name": "stdout",
     "output_type": "stream",
     "text": [
      "(datetime.datetime(2019, 4, 8, 16, 44, 31, 885850), 'say hi')\n"
     ]
    }
   ],
   "source": [
    "import dateparser\n",
    "from dateparser.search import search_dates\n",
    "\n",
    "\n",
    "in_text = \"Tomorrow say hi\"\n",
    "# something is wrong with word do!!\n",
    "\n",
    "def ParseTime(in_text):\n",
    "    \n",
    "    for: # с конца\n",
    "    if : panic()\n",
    "            \n",
    "#     if not parsed_time and not text:\n",
    "#         dates = search_dates(in_text) \n",
    "#         if len(dates)==1:\n",
    "#             parsed_time=dates[0][0]\n",
    "#             text=in_text.replace(dates[0][0],'')\n",
    "#         else: \n",
    "#             #State-of-the-art AI that asks user which date to choose \n",
    "#             print(\"More than 1 date\")\n",
    "#             print(dates)\n",
    "#             for i in dates:\n",
    "#                 continue\n",
    "    return parsed_time,text\n",
    "print(ParseTime(in_text))"
   ]
  },
  {
   "cell_type": "code",
   "execution_count": 58,
   "metadata": {
    "collapsed": false,
    "deletable": true,
    "editable": true
   },
   "outputs": [
    {
     "data": {
      "text/plain": [
       "'2019-04-08 17:19:34'"
      ]
     },
     "execution_count": 58,
     "metadata": {},
     "output_type": "execute_result"
    }
   ],
   "source": [
    "import datetime\n",
    "# print( dateparser.parse(\"tuesday\"))\n",
    "datetime.datetime.strftime(search_dates(\"tomorrow next now\", settings={'PREFER_DATES_FROM': 'future'})[0][1], \"%Y-%m-%d %H:%M:%S\")"
   ]
  },
  {
   "cell_type": "code",
   "execution_count": 113,
   "metadata": {
    "collapsed": false,
    "deletable": true,
    "editable": true
   },
   "outputs": [
    {
     "data": {
      "text/plain": [
       "{'date_obj': datetime.datetime(2019, 4, 8, 18, 52, 38, 180034),\n",
       " 'locale': 'ru',\n",
       " 'period': 'day'}"
      ]
     },
     "execution_count": 113,
     "metadata": {},
     "output_type": "execute_result"
    }
   ],
   "source": [
    "from dateparser.date import DateDataParser\n",
    "class MiracleDateParser(DateDataParser):\n",
    "    def __init__(self):\n",
    "        super().__init__(languages=['en', 'ru'])\n",
    "    def get_date_data(self, date_string, date_formats=None):\n",
    "        parsed = super().get_date_data(date_string, date_formats)\n",
    "        if not parsed['date_obj']:\n",
    "            raise OverflowError(\"Wtf\")\n",
    "        return parsed\n",
    "    \n",
    "a = MiracleDateParser()\n",
    "# try:\n",
    "# strin = \"next year at 6am\"\n",
    "# case(asd):\n",
    "#     \"next\"\n",
    "#     \"at\"\n",
    "#     \"last\"\n",
    "#     \"this\"\n",
    "x = a.get_date_data(\"завтра\")\n",
    "# except OverflowError:\n",
    "#     print(\"yay\")\n",
    "x"
   ]
  },
  {
   "cell_type": "code",
   "execution_count": 94,
   "metadata": {
    "collapsed": false,
    "deletable": true,
    "editable": true
   },
   "outputs": [
    {
     "data": {
      "text/plain": [
       "{'date_obj': datetime.datetime(2019, 4, 7, 21, 0),\n",
       " 'locale': 'en',\n",
       " 'period': 'day'}"
      ]
     },
     "execution_count": 94,
     "metadata": {},
     "output_type": "execute_result"
    }
   ],
   "source": [
    "x"
   ]
  }
 ],
 "metadata": {
  "kernelspec": {
   "display_name": "Python 3",
   "language": "python",
   "name": "python3"
  },
  "language_info": {
   "codemirror_mode": {
    "name": "ipython",
    "version": 3
   },
   "file_extension": ".py",
   "mimetype": "text/x-python",
   "name": "python",
   "nbconvert_exporter": "python",
   "pygments_lexer": "ipython3",
   "version": "3.6.1"
  }
 },
 "nbformat": 4,
 "nbformat_minor": 2
}
